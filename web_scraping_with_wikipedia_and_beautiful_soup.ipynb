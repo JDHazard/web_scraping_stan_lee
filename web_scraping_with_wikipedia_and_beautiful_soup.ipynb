{
 "cells": [
  {
   "cell_type": "code",
   "execution_count": 1,
   "metadata": {},
   "outputs": [],
   "source": [
    "import requests\n",
    "from bs4 import BeautifulSoup"
   ]
  },
  {
   "cell_type": "code",
   "execution_count": 2,
   "metadata": {},
   "outputs": [
    {
     "name": "stdout",
     "output_type": "stream",
     "text": [
      "Status Code:  200\n",
      "\n",
      "First part of HTML document fetched as string:\n",
      "\n",
      "<!DOCTYPE html>\n",
      "<html class=\"client-nojs\" lang=\"en\" dir=\"ltr\">\n",
      "<head>\n",
      "<meta charset=\"UTF-8\"/>\n",
      "<title>Stan Lee - Wikipedia</title>\n",
      "<script>document.documentElement.className = document.documentElement.className.replace( /(^|\\s)client-nojs(\\s|$)/, \"$1client-js$2\" );</script>\n",
      "<script>(window.RLQ=window.RLQ||[]).push(function(){mw.config.set({\"wgCanonicalNamespace\":\"\",\"wgCanonicalSpecialPageName\":false,\"wgNamespaceNumber\":0,\"wgPageName\":\"Stan_Lee\",\"wgTitle\":\"Stan Lee\",\"wgCurRevisionId\":889343301,\"wgRevisionId\":889343301,\"wgArticleId\":18598186,\"wgIsArticle\":true,\"wgIsRedirect\":false,\"wgAction\":\"view\",\"wgUserName\":null,\"wgUserGroups\":[\"*\"],\"wgCategories\":[\"CS1 maint: BOT: original-url status unkno\n"
     ]
    }
   ],
   "source": [
    "# Target web page:\n",
    "url = 'https://en.wikipedia.org/wiki/Stan_Lee'\n",
    "\n",
    "# Establishing the connection to the web page:\n",
    "response = requests.get(url)\n",
    "\n",
    "# You can use status codes to understand how the target server responds to your request.\n",
    "# Ex., 200 = OK, 400 = Bad Request, 403 = Forbidden, 404 = Not Found.\n",
    "print('Status Code: ',response.status_code)\n",
    "\n",
    "# Pull the HTML string out of requests and convert it to a Python string.\n",
    "html = response.text\n",
    "\n",
    "# The first 700 characters of the content.\n",
    "print(\"\\nFirst part of HTML document fetched as string:\\n\")\n",
    "print(html[:700])"
   ]
  },
  {
   "cell_type": "code",
   "execution_count": 39,
   "metadata": {},
   "outputs": [],
   "source": [
    "soup = BeautifulSoup(html, 'lxml')"
   ]
  },
  {
   "cell_type": "code",
   "execution_count": 40,
   "metadata": {},
   "outputs": [
    {
     "name": "stdout",
     "output_type": "stream",
     "text": [
      "\n",
      "The Amazing Spider-Man #1–100, 105–110, 116–118, 200, Annual #1–5, 18 (1962–84); (backup stories): #634–645 (2010–11)\n",
      "The Amazing Spider-Man, strips (1977–2018)[161]\n",
      "The Avengers #1–35 (1963–66)\n",
      "Captain America #100–141 (1968–71) (continues from Tales of Suspense #99)\n",
      "Daredevil, #1–9, 11–50, 53, Annual #1 (1964–69)\n",
      "Daredevil, vol. 2, #20 (backup story) (2001)\n",
      "Epic Illustrated #1 (Silver Surfer) (1980)\n",
      "Fantastic Four #1–114, 120–125, Annual #1–6 (1961–72); #296 (1986)\n",
      "The Incredible Hulk #1–6 (continues to Tales to Astonish #59)\n",
      "The Incredible Hulk, vol. 2, #108–120 (1968–69)\n",
      "Journey into Mystery (Thor) plotter #83–96 (1962–63), writer #97–125, Annual #1 (1963–66) (continues to Thor #126)\n",
      "The Mighty Thor #126–192, 200, Annual #2 (1966–72), 385 (1987)\n",
      "Kissnation #1 (1996)\n",
      " Nightcat #1 (1991)\n",
      "Ravage 2099 #1–7 (1992–93)\n",
      "Savage She-Hulk #1 (1980)\n",
      "Savage Tales #1 (1971)\n",
      "Sgt. Fury and his Howling Commandos #1–28, Annual #1 (1963–66)\n",
      "Silver Surfer #1–18 (1968–70)\n",
      "Silver Surfer, vol. 2, #1 (1982)\n",
      "Silver Surfer: Judgment Day (1988) ISBN 978-0-87135-427-3\n",
      "Silver Surfer: Parable #1–2 (1988–89)\n",
      "Silver Surfer: The Enslavers (1990) ISBN 978-0-87135-617-8\n",
      "Solarman #1–2 (1989–90)\n",
      "The Spectacular Spider-Man (magazine) #1–2 (1968)\n",
      "The Spectacular Spider-Man Annual #10 (1990)\n",
      "Strange Tales (diverse stories): #9, 11, 74, 89, 90–100 (1951–62); (Human Torch): #101–109, 112–133, Annual #2; (Doctor Strange): #110–111, 115–142, 151–158 (1962–67); Nick Fury, Agent of S.H.I.E.L.D.: #135–147, 150–152 (1965–67)\n",
      "Tales to Astonish (diverse stories): #1, 6, 12–13, 15–17, 24–33 (1956–62); Ant-Man/Giant Man: #35–69 (1962–65); The Hulk: #59–101 (1964–1968); Sub-Mariner: #70–101 (1965–68)\n",
      "Tales of Suspense (diverse stories):#7, 9, 16, 22, 27, 29–30 (1959–62); (Iron Man): plotter #39–46 (1963), writer #47–98 (1963–68) (Captain America): #58–86, 88–99 (1964–68)\n",
      "Web of Spider-Man Annual #6 (1990)\n",
      "What If (Fantastic Four) #200 (2011)\n",
      "The X-Men #1–19 (1963–66)\n",
      "\n"
     ]
    }
   ],
   "source": [
    "marvel_comics = soup.find('div', {'class': 'div-col columns column-width'})\n",
    "print(marvel_comics.text)"
   ]
  },
  {
   "cell_type": "code",
   "execution_count": 41,
   "metadata": {},
   "outputs": [],
   "source": [
    "marvel = marvel_comics.find_all('a')"
   ]
  },
  {
   "cell_type": "code",
   "execution_count": 42,
   "metadata": {},
   "outputs": [],
   "source": [
    "comics_title = [(m.text) for m in marvel]"
   ]
  },
  {
   "cell_type": "code",
   "execution_count": 43,
   "metadata": {},
   "outputs": [
    {
     "data": {
      "text/plain": [
       "['The Amazing Spider-Man',\n",
       " 'The Amazing Spider-Man',\n",
       " 'strips',\n",
       " '[161]',\n",
       " 'The Avengers',\n",
       " 'Captain America',\n",
       " 'Daredevil',\n",
       " 'Epic Illustrated',\n",
       " 'Fantastic Four',\n",
       " 'The Incredible Hulk',\n",
       " 'Journey into Mystery',\n",
       " 'Thor',\n",
       " 'The Mighty Thor',\n",
       " 'Ravage 2099',\n",
       " 'Savage She-Hulk',\n",
       " 'Savage Tales',\n",
       " 'Sgt. Fury and his Howling Commandos',\n",
       " 'Silver Surfer',\n",
       " 'ISBN',\n",
       " '978-0-87135-427-3',\n",
       " 'ISBN',\n",
       " '978-0-87135-617-8',\n",
       " 'Solarman',\n",
       " 'The Spectacular Spider-Man',\n",
       " 'Strange Tales',\n",
       " 'Human Torch',\n",
       " 'Doctor Strange',\n",
       " 'Nick Fury, Agent of S.H.I.E.L.D.',\n",
       " 'Tales to Astonish',\n",
       " 'Ant-Man/Giant Man',\n",
       " 'Hulk',\n",
       " 'Sub-Mariner',\n",
       " 'Tales of Suspense',\n",
       " 'Iron Man',\n",
       " 'Web of Spider-Man',\n",
       " 'What If',\n",
       " 'The X-Men']"
      ]
     },
     "execution_count": 43,
     "metadata": {},
     "output_type": "execute_result"
    }
   ],
   "source": [
    "comics_title"
   ]
  },
  {
   "cell_type": "code",
   "execution_count": null,
   "metadata": {},
   "outputs": [],
   "source": []
  }
 ],
 "metadata": {
  "kernelspec": {
   "display_name": "Python 3",
   "language": "python",
   "name": "python3"
  },
  "language_info": {
   "codemirror_mode": {
    "name": "ipython",
    "version": 3
   },
   "file_extension": ".py",
   "mimetype": "text/x-python",
   "name": "python",
   "nbconvert_exporter": "python",
   "pygments_lexer": "ipython3",
   "version": "3.6.4"
  },
  "toc": {
   "base_numbering": 1,
   "nav_menu": {},
   "number_sections": true,
   "sideBar": true,
   "skip_h1_title": false,
   "title_cell": "Table of Contents",
   "title_sidebar": "Contents",
   "toc_cell": false,
   "toc_position": {},
   "toc_section_display": true,
   "toc_window_display": false
  },
  "varInspector": {
   "cols": {
    "lenName": 16,
    "lenType": 16,
    "lenVar": 40
   },
   "kernels_config": {
    "python": {
     "delete_cmd_postfix": "",
     "delete_cmd_prefix": "del ",
     "library": "var_list.py",
     "varRefreshCmd": "print(var_dic_list())"
    },
    "r": {
     "delete_cmd_postfix": ") ",
     "delete_cmd_prefix": "rm(",
     "library": "var_list.r",
     "varRefreshCmd": "cat(var_dic_list()) "
    }
   },
   "types_to_exclude": [
    "module",
    "function",
    "builtin_function_or_method",
    "instance",
    "_Feature"
   ],
   "window_display": false
  }
 },
 "nbformat": 4,
 "nbformat_minor": 2
}
